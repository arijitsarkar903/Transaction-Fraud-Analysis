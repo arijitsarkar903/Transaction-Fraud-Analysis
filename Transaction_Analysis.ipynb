{
  "cells": [
    {
      "cell_type": "markdown",
      "metadata": {
        "id": "Lukdy__vulZz"
      },
      "source": [
        "Importing all data"
      ]
    },
    {
      "cell_type": "code",
      "execution_count": 1,
      "metadata": {},
      "outputs": [],
      "source": [
        "# importing all the required modules\n",
        "import pyodbc\n",
        "import pandas as pds\n",
        "import numpy as num\n",
        "import matplotlib.pyplot as plt\n",
        "import seaborn as sea\n",
        "# ignoring warnings\n",
        "import warnings\n",
        "warnings.filterwarnings(\"ignore\")"
      ]
    },
    {
      "cell_type": "code",
      "execution_count": 2,
      "metadata": {},
      "outputs": [
        {
          "name": "stdout",
          "output_type": "stream",
          "text": [
            "   transaction_id  customer_id  merchant_id       amount transaction_time  \\\n",
            "0               1         1082         2027  5758.589844       2023-01-01   \n",
            "1               2         1015         2053  1901.560059       2023-01-01   \n",
            "2               3         1004         2035  1248.859985       2023-01-01   \n",
            "3               4         1095         2037  7619.049805       2023-01-01   \n",
            "4               5         1036         2083  1890.099976       2023-01-01   \n",
            "\n",
            "   is_fraudulent card_ID    transaction_description          CLV location_ID  \n",
            "0          False   5000A  Purchase at Merchant-2027  2789.186279     City-30  \n",
            "1           True   5000B  Purchase at Merchant-2053  3604.427979     City-47  \n",
            "2           True   5000A  Purchase at Merchant-2035  3053.540527      City-6  \n",
            "3           True   5000C  Purchase at Merchant-2037  2769.927490      City-6  \n",
            "4           True   5000A  Purchase at Merchant-2083  2175.908447     City-34  \n"
          ]
        }
      ],
      "source": [
        "# Importing financial_data table\n",
        "\n",
        "# Defining the connection to the SQL Server\n",
        "conn_str = (\n",
        "    r'DRIVER={ODBC Driver 17 for SQL Server};'\n",
        "    r'SERVER=DESKTOP-0FIICAT\\SQLEXPRESS01;'\n",
        "    r'DATABASE=capstone;'  \n",
        "    r'Trusted_Connection=yes;'\n",
        ")\n",
        "\n",
        "# Making connection to the SQL Server\n",
        "conn = pyodbc.connect(conn_str)\n",
        "\n",
        "# Query for importing the financial_data\n",
        "query1 = \"SELECT * FROM financial_data\"\n",
        "\n",
        "# Reading the query result into a Pandas DataFrame\n",
        "financial_df = pds.read_sql(query1, conn)\n",
        "\n",
        "# Print the first few rows of the DataFrame to confirm\n",
        "print(financial_df.head())\n",
        "\n",
        "# Close the connection\n",
        "conn.close()"
      ]
    },
    {
      "cell_type": "code",
      "execution_count": 3,
      "metadata": {},
      "outputs": [
        {
          "name": "stdout",
          "output_type": "stream",
          "text": [
            "   customer_id  Customer_Age  Account_Tenure_Years  Transaction_Frequency\n",
            "0         1001            66                     7                    103\n",
            "1         1002            62                    20                    176\n",
            "2         1003            68                    15                    364\n",
            "3         1004            57                    11                    218\n",
            "4         1005            41                     8                    479\n"
          ]
        }
      ],
      "source": [
        "# Establish a connection to the SQL Server\n",
        "conn = pyodbc.connect(conn_str)\n",
        "\n",
        "# Query to import Customer_Details\n",
        "query2 = \"SELECT * FROM Customer_Details\"\n",
        "\n",
        "# Read the query result into a Pandas DataFrame\n",
        "Customer_df = pds.read_sql(query2, conn)\n",
        "\n",
        "# Print the first few rows of the DataFrame to confirm\n",
        "print(Customer_df.head())\n",
        "\n",
        "# Close the connection\n",
        "conn.close()"
      ]
    },
    {
      "cell_type": "code",
      "execution_count": 4,
      "metadata": {},
      "outputs": [
        {
          "name": "stdout",
          "output_type": "stream",
          "text": [
            "   merchant_id purchase_category\n",
            "0         2001            Retail\n",
            "1         2002         Groceries\n",
            "2         2003   Online Shopping\n",
            "3         2004            Retail\n",
            "4         2005         Groceries\n"
          ]
        }
      ],
      "source": [
        "# Establish a connection to the SQL Server\n",
        "conn = pyodbc.connect(conn_str)\n",
        "\n",
        "# Query to import merchant_details\n",
        "query3 = \"SELECT * FROM Merchant_Details\"\n",
        "\n",
        "# Read the query result into a Pandas DataFrame\n",
        "merchant_df = pds.read_sql(query3, conn)\n",
        "\n",
        "# Print the first few rows of the DataFrame to confirm\n",
        "print(merchant_df.head())\n",
        "\n",
        "# Close the connection\n",
        "conn.close()"
      ]
    },
    {
      "cell_type": "code",
      "execution_count": 5,
      "metadata": {},
      "outputs": [
        {
          "name": "stdout",
          "output_type": "stream",
          "text": [
            "  location_ID       City       Country\n",
            "0      City-1     Berlin       Germany\n",
            "1     City-10  Amsterdam   Netherlands\n",
            "2     City-11     Riyadh  Saudi Arabia\n",
            "3     City-12    Seville         Spain\n",
            "4     City-13     Moscow        Russia\n"
          ]
        }
      ],
      "source": [
        "# Establish a connection to the SQL Server\n",
        "conn = pyodbc.connect(conn_str)\n",
        "\n",
        "# Query to import another table\n",
        "query4 = \"SELECT * FROM location_details\"\n",
        "\n",
        "# Read the query result into a Pandas DataFrame\n",
        "location_df = pds.read_sql(query4, conn)\n",
        "\n",
        "# Print the first few rows of the DataFrame to confirm\n",
        "print(location_df.head())\n",
        "\n",
        "# Close the connection\n",
        "conn.close()"
      ]
    },
    {
      "cell_type": "code",
      "execution_count": 6,
      "metadata": {},
      "outputs": [
        {
          "name": "stdout",
          "output_type": "stream",
          "text": [
            "  card_ID         card_type\n",
            "0   5000A        MasterCard\n",
            "1   5000B              Visa\n",
            "2   5000C          Discover\n",
            "3   5000D  American Express\n"
          ]
        }
      ],
      "source": [
        "# Establish a connection to the SQL Server\n",
        "conn = pyodbc.connect(conn_str)\n",
        "\n",
        "# Query to import another table\n",
        "query4 = \"SELECT * FROM Card_Details\"\n",
        "\n",
        "# Read the query result into a Pandas DataFrame\n",
        "Card_df = pds.read_sql(query4, conn)\n",
        "\n",
        "# Print the first few rows of the DataFrame to confirm\n",
        "print(Card_df.head())\n",
        "\n",
        "# Close the connection\n",
        "conn.close()"
      ]
    },
    {
      "cell_type": "markdown",
      "metadata": {
        "id": "TAVOz5QrupNK"
      },
      "source": [
        "Showing all data"
      ]
    },
    {
      "cell_type": "code",
      "execution_count": 7,
      "metadata": {
        "colab": {
          "base_uri": "https://localhost:8080/",
          "height": 363
        },
        "id": "mQCUiW6I1yoz",
        "outputId": "3a270b6e-0575-4d95-a261-f507287462ee"
      },
      "outputs": [
        {
          "data": {
            "text/html": [
              "<div>\n",
              "<style scoped>\n",
              "    .dataframe tbody tr th:only-of-type {\n",
              "        vertical-align: middle;\n",
              "    }\n",
              "\n",
              "    .dataframe tbody tr th {\n",
              "        vertical-align: top;\n",
              "    }\n",
              "\n",
              "    .dataframe thead th {\n",
              "        text-align: right;\n",
              "    }\n",
              "</style>\n",
              "<table border=\"1\" class=\"dataframe\">\n",
              "  <thead>\n",
              "    <tr style=\"text-align: right;\">\n",
              "      <th></th>\n",
              "      <th>transaction_id</th>\n",
              "      <th>customer_id</th>\n",
              "      <th>merchant_id</th>\n",
              "      <th>amount</th>\n",
              "      <th>is_fraudulent</th>\n",
              "      <th>card_ID</th>\n",
              "      <th>CLV</th>\n",
              "      <th>location_ID</th>\n",
              "    </tr>\n",
              "  </thead>\n",
              "  <tbody>\n",
              "    <tr>\n",
              "      <th>0</th>\n",
              "      <td>1</td>\n",
              "      <td>1082</td>\n",
              "      <td>2027</td>\n",
              "      <td>5758.589844</td>\n",
              "      <td>False</td>\n",
              "      <td>5000A</td>\n",
              "      <td>2789.186279</td>\n",
              "      <td>City-30</td>\n",
              "    </tr>\n",
              "    <tr>\n",
              "      <th>1</th>\n",
              "      <td>2</td>\n",
              "      <td>1015</td>\n",
              "      <td>2053</td>\n",
              "      <td>1901.560059</td>\n",
              "      <td>True</td>\n",
              "      <td>5000B</td>\n",
              "      <td>3604.427979</td>\n",
              "      <td>City-47</td>\n",
              "    </tr>\n",
              "    <tr>\n",
              "      <th>2</th>\n",
              "      <td>3</td>\n",
              "      <td>1004</td>\n",
              "      <td>2035</td>\n",
              "      <td>1248.859985</td>\n",
              "      <td>True</td>\n",
              "      <td>5000A</td>\n",
              "      <td>3053.540527</td>\n",
              "      <td>City-6</td>\n",
              "    </tr>\n",
              "    <tr>\n",
              "      <th>3</th>\n",
              "      <td>4</td>\n",
              "      <td>1095</td>\n",
              "      <td>2037</td>\n",
              "      <td>7619.049805</td>\n",
              "      <td>True</td>\n",
              "      <td>5000C</td>\n",
              "      <td>2769.927490</td>\n",
              "      <td>City-6</td>\n",
              "    </tr>\n",
              "    <tr>\n",
              "      <th>4</th>\n",
              "      <td>5</td>\n",
              "      <td>1036</td>\n",
              "      <td>2083</td>\n",
              "      <td>1890.099976</td>\n",
              "      <td>True</td>\n",
              "      <td>5000A</td>\n",
              "      <td>2175.908447</td>\n",
              "      <td>City-34</td>\n",
              "    </tr>\n",
              "    <tr>\n",
              "      <th>5</th>\n",
              "      <td>6</td>\n",
              "      <td>1032</td>\n",
              "      <td>2021</td>\n",
              "      <td>8487.679688</td>\n",
              "      <td>True</td>\n",
              "      <td>5000D</td>\n",
              "      <td>3264.881104</td>\n",
              "      <td>City-1</td>\n",
              "    </tr>\n",
              "    <tr>\n",
              "      <th>6</th>\n",
              "      <td>7</td>\n",
              "      <td>1029</td>\n",
              "      <td>2033</td>\n",
              "      <td>7565.299805</td>\n",
              "      <td>True</td>\n",
              "      <td>5000B</td>\n",
              "      <td>2244.177246</td>\n",
              "      <td>City-7</td>\n",
              "    </tr>\n",
              "    <tr>\n",
              "      <th>7</th>\n",
              "      <td>8</td>\n",
              "      <td>1018</td>\n",
              "      <td>2088</td>\n",
              "      <td>2284.879883</td>\n",
              "      <td>False</td>\n",
              "      <td>5000D</td>\n",
              "      <td>4469.687500</td>\n",
              "      <td>City-46</td>\n",
              "    </tr>\n",
              "    <tr>\n",
              "      <th>8</th>\n",
              "      <td>9</td>\n",
              "      <td>1095</td>\n",
              "      <td>2077</td>\n",
              "      <td>3952.729980</td>\n",
              "      <td>False</td>\n",
              "      <td>5000D</td>\n",
              "      <td>4821.947754</td>\n",
              "      <td>City-45</td>\n",
              "    </tr>\n",
              "    <tr>\n",
              "      <th>9</th>\n",
              "      <td>10</td>\n",
              "      <td>1014</td>\n",
              "      <td>2031</td>\n",
              "      <td>8362.040039</td>\n",
              "      <td>False</td>\n",
              "      <td>5000B</td>\n",
              "      <td>1978.863403</td>\n",
              "      <td>City-25</td>\n",
              "    </tr>\n",
              "  </tbody>\n",
              "</table>\n",
              "</div>"
            ],
            "text/plain": [
              "   transaction_id  customer_id  merchant_id       amount  is_fraudulent  \\\n",
              "0               1         1082         2027  5758.589844          False   \n",
              "1               2         1015         2053  1901.560059           True   \n",
              "2               3         1004         2035  1248.859985           True   \n",
              "3               4         1095         2037  7619.049805           True   \n",
              "4               5         1036         2083  1890.099976           True   \n",
              "5               6         1032         2021  8487.679688           True   \n",
              "6               7         1029         2033  7565.299805           True   \n",
              "7               8         1018         2088  2284.879883          False   \n",
              "8               9         1095         2077  3952.729980          False   \n",
              "9              10         1014         2031  8362.040039          False   \n",
              "\n",
              "  card_ID          CLV location_ID  \n",
              "0   5000A  2789.186279     City-30  \n",
              "1   5000B  3604.427979     City-47  \n",
              "2   5000A  3053.540527      City-6  \n",
              "3   5000C  2769.927490      City-6  \n",
              "4   5000A  2175.908447     City-34  \n",
              "5   5000D  3264.881104      City-1  \n",
              "6   5000B  2244.177246      City-7  \n",
              "7   5000D  4469.687500     City-46  \n",
              "8   5000D  4821.947754     City-45  \n",
              "9   5000B  1978.863403     City-25  "
            ]
          },
          "execution_count": 7,
          "metadata": {},
          "output_type": "execute_result"
        }
      ],
      "source": [
        "# Removing the unnecessary columns\n",
        "fin_df = financial_df.drop(columns=['transaction_time', 'transaction_description'])\n",
        "\n",
        "fin_df.head(10)"
      ]
    },
    {
      "cell_type": "code",
      "execution_count": 8,
      "metadata": {
        "colab": {
          "base_uri": "https://localhost:8080/",
          "height": 363
        },
        "id": "rqBGTOpO4dva",
        "outputId": "b0cdf83e-89ad-4ceb-d7e9-e877a97accd4"
      },
      "outputs": [
        {
          "data": {
            "text/html": [
              "<div>\n",
              "<style scoped>\n",
              "    .dataframe tbody tr th:only-of-type {\n",
              "        vertical-align: middle;\n",
              "    }\n",
              "\n",
              "    .dataframe tbody tr th {\n",
              "        vertical-align: top;\n",
              "    }\n",
              "\n",
              "    .dataframe thead th {\n",
              "        text-align: right;\n",
              "    }\n",
              "</style>\n",
              "<table border=\"1\" class=\"dataframe\">\n",
              "  <thead>\n",
              "    <tr style=\"text-align: right;\">\n",
              "      <th></th>\n",
              "      <th>merchant_id</th>\n",
              "      <th>purchase_category</th>\n",
              "    </tr>\n",
              "  </thead>\n",
              "  <tbody>\n",
              "    <tr>\n",
              "      <th>0</th>\n",
              "      <td>2001</td>\n",
              "      <td>Retail</td>\n",
              "    </tr>\n",
              "    <tr>\n",
              "      <th>1</th>\n",
              "      <td>2002</td>\n",
              "      <td>Groceries</td>\n",
              "    </tr>\n",
              "    <tr>\n",
              "      <th>2</th>\n",
              "      <td>2003</td>\n",
              "      <td>Online Shopping</td>\n",
              "    </tr>\n",
              "    <tr>\n",
              "      <th>3</th>\n",
              "      <td>2004</td>\n",
              "      <td>Retail</td>\n",
              "    </tr>\n",
              "    <tr>\n",
              "      <th>4</th>\n",
              "      <td>2005</td>\n",
              "      <td>Groceries</td>\n",
              "    </tr>\n",
              "    <tr>\n",
              "      <th>5</th>\n",
              "      <td>2006</td>\n",
              "      <td>Restaurant</td>\n",
              "    </tr>\n",
              "    <tr>\n",
              "      <th>6</th>\n",
              "      <td>2007</td>\n",
              "      <td>Online Shopping</td>\n",
              "    </tr>\n",
              "    <tr>\n",
              "      <th>7</th>\n",
              "      <td>2008</td>\n",
              "      <td>Online Shopping</td>\n",
              "    </tr>\n",
              "    <tr>\n",
              "      <th>8</th>\n",
              "      <td>2009</td>\n",
              "      <td>Restaurant</td>\n",
              "    </tr>\n",
              "    <tr>\n",
              "      <th>9</th>\n",
              "      <td>2010</td>\n",
              "      <td>Groceries</td>\n",
              "    </tr>\n",
              "  </tbody>\n",
              "</table>\n",
              "</div>"
            ],
            "text/plain": [
              "   merchant_id purchase_category\n",
              "0         2001            Retail\n",
              "1         2002         Groceries\n",
              "2         2003   Online Shopping\n",
              "3         2004            Retail\n",
              "4         2005         Groceries\n",
              "5         2006        Restaurant\n",
              "6         2007   Online Shopping\n",
              "7         2008   Online Shopping\n",
              "8         2009        Restaurant\n",
              "9         2010         Groceries"
            ]
          },
          "execution_count": 8,
          "metadata": {},
          "output_type": "execute_result"
        }
      ],
      "source": [
        "merchant_df.head(10)"
      ]
    },
    {
      "cell_type": "code",
      "execution_count": 9,
      "metadata": {
        "colab": {
          "base_uri": "https://localhost:8080/",
          "height": 206
        },
        "id": "BbkCjJrX7PG1",
        "outputId": "e16832a1-2504-48d4-dbf7-f7aa54500f61"
      },
      "outputs": [
        {
          "data": {
            "text/html": [
              "<div>\n",
              "<style scoped>\n",
              "    .dataframe tbody tr th:only-of-type {\n",
              "        vertical-align: middle;\n",
              "    }\n",
              "\n",
              "    .dataframe tbody tr th {\n",
              "        vertical-align: top;\n",
              "    }\n",
              "\n",
              "    .dataframe thead th {\n",
              "        text-align: right;\n",
              "    }\n",
              "</style>\n",
              "<table border=\"1\" class=\"dataframe\">\n",
              "  <thead>\n",
              "    <tr style=\"text-align: right;\">\n",
              "      <th></th>\n",
              "      <th>customer_id</th>\n",
              "      <th>Customer_Age</th>\n",
              "      <th>Account_Tenure_Years</th>\n",
              "      <th>Transaction_Frequency</th>\n",
              "    </tr>\n",
              "  </thead>\n",
              "  <tbody>\n",
              "    <tr>\n",
              "      <th>0</th>\n",
              "      <td>1001</td>\n",
              "      <td>66</td>\n",
              "      <td>7</td>\n",
              "      <td>103</td>\n",
              "    </tr>\n",
              "    <tr>\n",
              "      <th>1</th>\n",
              "      <td>1002</td>\n",
              "      <td>62</td>\n",
              "      <td>20</td>\n",
              "      <td>176</td>\n",
              "    </tr>\n",
              "    <tr>\n",
              "      <th>2</th>\n",
              "      <td>1003</td>\n",
              "      <td>68</td>\n",
              "      <td>15</td>\n",
              "      <td>364</td>\n",
              "    </tr>\n",
              "    <tr>\n",
              "      <th>3</th>\n",
              "      <td>1004</td>\n",
              "      <td>57</td>\n",
              "      <td>11</td>\n",
              "      <td>218</td>\n",
              "    </tr>\n",
              "    <tr>\n",
              "      <th>4</th>\n",
              "      <td>1005</td>\n",
              "      <td>41</td>\n",
              "      <td>8</td>\n",
              "      <td>479</td>\n",
              "    </tr>\n",
              "  </tbody>\n",
              "</table>\n",
              "</div>"
            ],
            "text/plain": [
              "   customer_id  Customer_Age  Account_Tenure_Years  Transaction_Frequency\n",
              "0         1001            66                     7                    103\n",
              "1         1002            62                    20                    176\n",
              "2         1003            68                    15                    364\n",
              "3         1004            57                    11                    218\n",
              "4         1005            41                     8                    479"
            ]
          },
          "execution_count": 9,
          "metadata": {},
          "output_type": "execute_result"
        }
      ],
      "source": [
        "#showing top 5 rows of the data\n",
        "Customer_df.head()"
      ]
    },
    {
      "cell_type": "code",
      "execution_count": 10,
      "metadata": {
        "colab": {
          "base_uri": "https://localhost:8080/",
          "height": 175
        },
        "id": "5aAMKxot7TpN",
        "outputId": "a905ab99-4ffc-48ca-dabb-81eb97449cfd"
      },
      "outputs": [
        {
          "data": {
            "text/html": [
              "<div>\n",
              "<style scoped>\n",
              "    .dataframe tbody tr th:only-of-type {\n",
              "        vertical-align: middle;\n",
              "    }\n",
              "\n",
              "    .dataframe tbody tr th {\n",
              "        vertical-align: top;\n",
              "    }\n",
              "\n",
              "    .dataframe thead th {\n",
              "        text-align: right;\n",
              "    }\n",
              "</style>\n",
              "<table border=\"1\" class=\"dataframe\">\n",
              "  <thead>\n",
              "    <tr style=\"text-align: right;\">\n",
              "      <th></th>\n",
              "      <th>card_ID</th>\n",
              "      <th>card_type</th>\n",
              "    </tr>\n",
              "  </thead>\n",
              "  <tbody>\n",
              "    <tr>\n",
              "      <th>0</th>\n",
              "      <td>5000A</td>\n",
              "      <td>MasterCard</td>\n",
              "    </tr>\n",
              "    <tr>\n",
              "      <th>1</th>\n",
              "      <td>5000B</td>\n",
              "      <td>Visa</td>\n",
              "    </tr>\n",
              "    <tr>\n",
              "      <th>2</th>\n",
              "      <td>5000C</td>\n",
              "      <td>Discover</td>\n",
              "    </tr>\n",
              "    <tr>\n",
              "      <th>3</th>\n",
              "      <td>5000D</td>\n",
              "      <td>American Express</td>\n",
              "    </tr>\n",
              "  </tbody>\n",
              "</table>\n",
              "</div>"
            ],
            "text/plain": [
              "  card_ID         card_type\n",
              "0   5000A        MasterCard\n",
              "1   5000B              Visa\n",
              "2   5000C          Discover\n",
              "3   5000D  American Express"
            ]
          },
          "execution_count": 10,
          "metadata": {},
          "output_type": "execute_result"
        }
      ],
      "source": [
        "Card_df.head()"
      ]
    },
    {
      "cell_type": "code",
      "execution_count": 11,
      "metadata": {
        "colab": {
          "base_uri": "https://localhost:8080/",
          "height": 206
        },
        "id": "hVVPrSPpZu9h",
        "outputId": "2f5c20d1-d798-48fb-f476-3c763373d8a7"
      },
      "outputs": [
        {
          "data": {
            "text/html": [
              "<div>\n",
              "<style scoped>\n",
              "    .dataframe tbody tr th:only-of-type {\n",
              "        vertical-align: middle;\n",
              "    }\n",
              "\n",
              "    .dataframe tbody tr th {\n",
              "        vertical-align: top;\n",
              "    }\n",
              "\n",
              "    .dataframe thead th {\n",
              "        text-align: right;\n",
              "    }\n",
              "</style>\n",
              "<table border=\"1\" class=\"dataframe\">\n",
              "  <thead>\n",
              "    <tr style=\"text-align: right;\">\n",
              "      <th></th>\n",
              "      <th>location_ID</th>\n",
              "      <th>City</th>\n",
              "      <th>Country</th>\n",
              "    </tr>\n",
              "  </thead>\n",
              "  <tbody>\n",
              "    <tr>\n",
              "      <th>0</th>\n",
              "      <td>City-1</td>\n",
              "      <td>Berlin</td>\n",
              "      <td>Germany</td>\n",
              "    </tr>\n",
              "    <tr>\n",
              "      <th>1</th>\n",
              "      <td>City-10</td>\n",
              "      <td>Amsterdam</td>\n",
              "      <td>Netherlands</td>\n",
              "    </tr>\n",
              "    <tr>\n",
              "      <th>2</th>\n",
              "      <td>City-11</td>\n",
              "      <td>Riyadh</td>\n",
              "      <td>Saudi Arabia</td>\n",
              "    </tr>\n",
              "    <tr>\n",
              "      <th>3</th>\n",
              "      <td>City-12</td>\n",
              "      <td>Seville</td>\n",
              "      <td>Spain</td>\n",
              "    </tr>\n",
              "    <tr>\n",
              "      <th>4</th>\n",
              "      <td>City-13</td>\n",
              "      <td>Moscow</td>\n",
              "      <td>Russia</td>\n",
              "    </tr>\n",
              "  </tbody>\n",
              "</table>\n",
              "</div>"
            ],
            "text/plain": [
              "  location_ID       City       Country\n",
              "0      City-1     Berlin       Germany\n",
              "1     City-10  Amsterdam   Netherlands\n",
              "2     City-11     Riyadh  Saudi Arabia\n",
              "3     City-12    Seville         Spain\n",
              "4     City-13     Moscow        Russia"
            ]
          },
          "execution_count": 11,
          "metadata": {},
          "output_type": "execute_result"
        }
      ],
      "source": [
        "location_df.head()"
      ]
    },
    {
      "cell_type": "markdown",
      "metadata": {
        "id": "Xy_qQfBpuuz6"
      },
      "source": [
        "Null Values Checking"
      ]
    },
    {
      "cell_type": "code",
      "execution_count": 12,
      "metadata": {
        "colab": {
          "base_uri": "https://localhost:8080/",
          "height": 335
        },
        "id": "FnRuY1367bK2",
        "outputId": "5710d223-2d65-4c5c-c273-cd87425da76d"
      },
      "outputs": [
        {
          "data": {
            "text/plain": [
              "transaction_id    0\n",
              "customer_id       0\n",
              "merchant_id       0\n",
              "amount            0\n",
              "is_fraudulent     0\n",
              "card_ID           0\n",
              "CLV               0\n",
              "location_ID       0\n",
              "dtype: int64"
            ]
          },
          "execution_count": 12,
          "metadata": {},
          "output_type": "execute_result"
        }
      ],
      "source": [
        "# Checking for the null values\n",
        "fin_df.isnull().sum()"
      ]
    },
    {
      "cell_type": "markdown",
      "metadata": {
        "id": "GkSzMg7puheF"
      },
      "source": [
        "Merging Data"
      ]
    },
    {
      "cell_type": "code",
      "execution_count": 13,
      "metadata": {
        "id": "b4RmdEME71SG"
      },
      "outputs": [],
      "source": [
        "# Merging the Financial Data with the Customer Data\n",
        "merged_1 = fin_df.merge(Customer_df, on='customer_id', how='left')"
      ]
    },
    {
      "cell_type": "code",
      "execution_count": 14,
      "metadata": {
        "colab": {
          "base_uri": "https://localhost:8080/",
          "height": 206
        },
        "id": "hppxPkYc9hlq",
        "outputId": "b5588c79-3d2a-4860-80a4-72ee62468f2e"
      },
      "outputs": [
        {
          "data": {
            "text/html": [
              "<div>\n",
              "<style scoped>\n",
              "    .dataframe tbody tr th:only-of-type {\n",
              "        vertical-align: middle;\n",
              "    }\n",
              "\n",
              "    .dataframe tbody tr th {\n",
              "        vertical-align: top;\n",
              "    }\n",
              "\n",
              "    .dataframe thead th {\n",
              "        text-align: right;\n",
              "    }\n",
              "</style>\n",
              "<table border=\"1\" class=\"dataframe\">\n",
              "  <thead>\n",
              "    <tr style=\"text-align: right;\">\n",
              "      <th></th>\n",
              "      <th>transaction_id</th>\n",
              "      <th>customer_id</th>\n",
              "      <th>merchant_id</th>\n",
              "      <th>amount</th>\n",
              "      <th>is_fraudulent</th>\n",
              "      <th>card_ID</th>\n",
              "      <th>CLV</th>\n",
              "      <th>location_ID</th>\n",
              "      <th>Customer_Age</th>\n",
              "      <th>Account_Tenure_Years</th>\n",
              "      <th>Transaction_Frequency</th>\n",
              "    </tr>\n",
              "  </thead>\n",
              "  <tbody>\n",
              "    <tr>\n",
              "      <th>0</th>\n",
              "      <td>1</td>\n",
              "      <td>1082</td>\n",
              "      <td>2027</td>\n",
              "      <td>5758.589844</td>\n",
              "      <td>False</td>\n",
              "      <td>5000A</td>\n",
              "      <td>2789.186279</td>\n",
              "      <td>City-30</td>\n",
              "      <td>43</td>\n",
              "      <td>11</td>\n",
              "      <td>460</td>\n",
              "    </tr>\n",
              "    <tr>\n",
              "      <th>1</th>\n",
              "      <td>2</td>\n",
              "      <td>1015</td>\n",
              "      <td>2053</td>\n",
              "      <td>1901.560059</td>\n",
              "      <td>True</td>\n",
              "      <td>5000B</td>\n",
              "      <td>3604.427979</td>\n",
              "      <td>City-47</td>\n",
              "      <td>61</td>\n",
              "      <td>6</td>\n",
              "      <td>222</td>\n",
              "    </tr>\n",
              "    <tr>\n",
              "      <th>2</th>\n",
              "      <td>3</td>\n",
              "      <td>1004</td>\n",
              "      <td>2035</td>\n",
              "      <td>1248.859985</td>\n",
              "      <td>True</td>\n",
              "      <td>5000A</td>\n",
              "      <td>3053.540527</td>\n",
              "      <td>City-6</td>\n",
              "      <td>57</td>\n",
              "      <td>11</td>\n",
              "      <td>218</td>\n",
              "    </tr>\n",
              "    <tr>\n",
              "      <th>3</th>\n",
              "      <td>4</td>\n",
              "      <td>1095</td>\n",
              "      <td>2037</td>\n",
              "      <td>7619.049805</td>\n",
              "      <td>True</td>\n",
              "      <td>5000C</td>\n",
              "      <td>2769.927490</td>\n",
              "      <td>City-6</td>\n",
              "      <td>59</td>\n",
              "      <td>8</td>\n",
              "      <td>164</td>\n",
              "    </tr>\n",
              "    <tr>\n",
              "      <th>4</th>\n",
              "      <td>5</td>\n",
              "      <td>1036</td>\n",
              "      <td>2083</td>\n",
              "      <td>1890.099976</td>\n",
              "      <td>True</td>\n",
              "      <td>5000A</td>\n",
              "      <td>2175.908447</td>\n",
              "      <td>City-34</td>\n",
              "      <td>36</td>\n",
              "      <td>14</td>\n",
              "      <td>489</td>\n",
              "    </tr>\n",
              "  </tbody>\n",
              "</table>\n",
              "</div>"
            ],
            "text/plain": [
              "   transaction_id  customer_id  merchant_id       amount  is_fraudulent  \\\n",
              "0               1         1082         2027  5758.589844          False   \n",
              "1               2         1015         2053  1901.560059           True   \n",
              "2               3         1004         2035  1248.859985           True   \n",
              "3               4         1095         2037  7619.049805           True   \n",
              "4               5         1036         2083  1890.099976           True   \n",
              "\n",
              "  card_ID          CLV location_ID  Customer_Age  Account_Tenure_Years  \\\n",
              "0   5000A  2789.186279     City-30            43                    11   \n",
              "1   5000B  3604.427979     City-47            61                     6   \n",
              "2   5000A  3053.540527      City-6            57                    11   \n",
              "3   5000C  2769.927490      City-6            59                     8   \n",
              "4   5000A  2175.908447     City-34            36                    14   \n",
              "\n",
              "   Transaction_Frequency  \n",
              "0                    460  \n",
              "1                    222  \n",
              "2                    218  \n",
              "3                    164  \n",
              "4                    489  "
            ]
          },
          "execution_count": 14,
          "metadata": {},
          "output_type": "execute_result"
        }
      ],
      "source": [
        "merged_1.head()"
      ]
    },
    {
      "cell_type": "code",
      "execution_count": 15,
      "metadata": {
        "id": "S2aavyCS9ll_"
      },
      "outputs": [],
      "source": [
        "# Merging the above data with Merchant Details data\n",
        "merged_2 = merged_1.merge(merchant_df, on='merchant_id', how='left')"
      ]
    },
    {
      "cell_type": "code",
      "execution_count": 16,
      "metadata": {
        "colab": {
          "base_uri": "https://localhost:8080/",
          "height": 206
        },
        "id": "AwCt_fR49_ht",
        "outputId": "915945c0-1d06-45a0-b6ed-80f8f39f6008"
      },
      "outputs": [
        {
          "data": {
            "text/html": [
              "<div>\n",
              "<style scoped>\n",
              "    .dataframe tbody tr th:only-of-type {\n",
              "        vertical-align: middle;\n",
              "    }\n",
              "\n",
              "    .dataframe tbody tr th {\n",
              "        vertical-align: top;\n",
              "    }\n",
              "\n",
              "    .dataframe thead th {\n",
              "        text-align: right;\n",
              "    }\n",
              "</style>\n",
              "<table border=\"1\" class=\"dataframe\">\n",
              "  <thead>\n",
              "    <tr style=\"text-align: right;\">\n",
              "      <th></th>\n",
              "      <th>transaction_id</th>\n",
              "      <th>customer_id</th>\n",
              "      <th>merchant_id</th>\n",
              "      <th>amount</th>\n",
              "      <th>is_fraudulent</th>\n",
              "      <th>card_ID</th>\n",
              "      <th>CLV</th>\n",
              "      <th>location_ID</th>\n",
              "      <th>Customer_Age</th>\n",
              "      <th>Account_Tenure_Years</th>\n",
              "      <th>Transaction_Frequency</th>\n",
              "      <th>purchase_category</th>\n",
              "    </tr>\n",
              "  </thead>\n",
              "  <tbody>\n",
              "    <tr>\n",
              "      <th>0</th>\n",
              "      <td>1</td>\n",
              "      <td>1082</td>\n",
              "      <td>2027</td>\n",
              "      <td>5758.589844</td>\n",
              "      <td>False</td>\n",
              "      <td>5000A</td>\n",
              "      <td>2789.186279</td>\n",
              "      <td>City-30</td>\n",
              "      <td>43</td>\n",
              "      <td>11</td>\n",
              "      <td>460</td>\n",
              "      <td>Gas Station</td>\n",
              "    </tr>\n",
              "    <tr>\n",
              "      <th>1</th>\n",
              "      <td>2</td>\n",
              "      <td>1015</td>\n",
              "      <td>2053</td>\n",
              "      <td>1901.560059</td>\n",
              "      <td>True</td>\n",
              "      <td>5000B</td>\n",
              "      <td>3604.427979</td>\n",
              "      <td>City-47</td>\n",
              "      <td>61</td>\n",
              "      <td>6</td>\n",
              "      <td>222</td>\n",
              "      <td>Online Shopping</td>\n",
              "    </tr>\n",
              "    <tr>\n",
              "      <th>2</th>\n",
              "      <td>3</td>\n",
              "      <td>1004</td>\n",
              "      <td>2035</td>\n",
              "      <td>1248.859985</td>\n",
              "      <td>True</td>\n",
              "      <td>5000A</td>\n",
              "      <td>3053.540527</td>\n",
              "      <td>City-6</td>\n",
              "      <td>57</td>\n",
              "      <td>11</td>\n",
              "      <td>218</td>\n",
              "      <td>Gas Station</td>\n",
              "    </tr>\n",
              "    <tr>\n",
              "      <th>3</th>\n",
              "      <td>4</td>\n",
              "      <td>1095</td>\n",
              "      <td>2037</td>\n",
              "      <td>7619.049805</td>\n",
              "      <td>True</td>\n",
              "      <td>5000C</td>\n",
              "      <td>2769.927490</td>\n",
              "      <td>City-6</td>\n",
              "      <td>59</td>\n",
              "      <td>8</td>\n",
              "      <td>164</td>\n",
              "      <td>Travel</td>\n",
              "    </tr>\n",
              "    <tr>\n",
              "      <th>4</th>\n",
              "      <td>5</td>\n",
              "      <td>1036</td>\n",
              "      <td>2083</td>\n",
              "      <td>1890.099976</td>\n",
              "      <td>True</td>\n",
              "      <td>5000A</td>\n",
              "      <td>2175.908447</td>\n",
              "      <td>City-34</td>\n",
              "      <td>36</td>\n",
              "      <td>14</td>\n",
              "      <td>489</td>\n",
              "      <td>Retail</td>\n",
              "    </tr>\n",
              "  </tbody>\n",
              "</table>\n",
              "</div>"
            ],
            "text/plain": [
              "   transaction_id  customer_id  merchant_id       amount  is_fraudulent  \\\n",
              "0               1         1082         2027  5758.589844          False   \n",
              "1               2         1015         2053  1901.560059           True   \n",
              "2               3         1004         2035  1248.859985           True   \n",
              "3               4         1095         2037  7619.049805           True   \n",
              "4               5         1036         2083  1890.099976           True   \n",
              "\n",
              "  card_ID          CLV location_ID  Customer_Age  Account_Tenure_Years  \\\n",
              "0   5000A  2789.186279     City-30            43                    11   \n",
              "1   5000B  3604.427979     City-47            61                     6   \n",
              "2   5000A  3053.540527      City-6            57                    11   \n",
              "3   5000C  2769.927490      City-6            59                     8   \n",
              "4   5000A  2175.908447     City-34            36                    14   \n",
              "\n",
              "   Transaction_Frequency purchase_category  \n",
              "0                    460       Gas Station  \n",
              "1                    222   Online Shopping  \n",
              "2                    218       Gas Station  \n",
              "3                    164            Travel  \n",
              "4                    489            Retail  "
            ]
          },
          "execution_count": 16,
          "metadata": {},
          "output_type": "execute_result"
        }
      ],
      "source": [
        "merged_2.head()"
      ]
    },
    {
      "cell_type": "code",
      "execution_count": 17,
      "metadata": {
        "id": "fIZzbDZsaBZQ"
      },
      "outputs": [],
      "source": [
        "# Merging the above data with Merchant Details data\n",
        "merged_3 = merged_2.merge(location_df, on='location_ID', how='left')"
      ]
    },
    {
      "cell_type": "code",
      "execution_count": 18,
      "metadata": {
        "colab": {
          "base_uri": "https://localhost:8080/",
          "height": 206
        },
        "id": "gj-Ym2d5aa8X",
        "outputId": "d3fd9a4d-008e-49c0-9780-ff43aa62e6af"
      },
      "outputs": [
        {
          "data": {
            "text/html": [
              "<div>\n",
              "<style scoped>\n",
              "    .dataframe tbody tr th:only-of-type {\n",
              "        vertical-align: middle;\n",
              "    }\n",
              "\n",
              "    .dataframe tbody tr th {\n",
              "        vertical-align: top;\n",
              "    }\n",
              "\n",
              "    .dataframe thead th {\n",
              "        text-align: right;\n",
              "    }\n",
              "</style>\n",
              "<table border=\"1\" class=\"dataframe\">\n",
              "  <thead>\n",
              "    <tr style=\"text-align: right;\">\n",
              "      <th></th>\n",
              "      <th>transaction_id</th>\n",
              "      <th>customer_id</th>\n",
              "      <th>merchant_id</th>\n",
              "      <th>amount</th>\n",
              "      <th>is_fraudulent</th>\n",
              "      <th>card_ID</th>\n",
              "      <th>CLV</th>\n",
              "      <th>location_ID</th>\n",
              "      <th>Customer_Age</th>\n",
              "      <th>Account_Tenure_Years</th>\n",
              "      <th>Transaction_Frequency</th>\n",
              "      <th>purchase_category</th>\n",
              "      <th>City</th>\n",
              "      <th>Country</th>\n",
              "    </tr>\n",
              "  </thead>\n",
              "  <tbody>\n",
              "    <tr>\n",
              "      <th>0</th>\n",
              "      <td>1</td>\n",
              "      <td>1082</td>\n",
              "      <td>2027</td>\n",
              "      <td>5758.589844</td>\n",
              "      <td>False</td>\n",
              "      <td>5000A</td>\n",
              "      <td>2789.186279</td>\n",
              "      <td>City-30</td>\n",
              "      <td>43</td>\n",
              "      <td>11</td>\n",
              "      <td>460</td>\n",
              "      <td>Gas Station</td>\n",
              "      <td>New York</td>\n",
              "      <td>USA</td>\n",
              "    </tr>\n",
              "    <tr>\n",
              "      <th>1</th>\n",
              "      <td>2</td>\n",
              "      <td>1015</td>\n",
              "      <td>2053</td>\n",
              "      <td>1901.560059</td>\n",
              "      <td>True</td>\n",
              "      <td>5000B</td>\n",
              "      <td>3604.427979</td>\n",
              "      <td>City-47</td>\n",
              "      <td>61</td>\n",
              "      <td>6</td>\n",
              "      <td>222</td>\n",
              "      <td>Online Shopping</td>\n",
              "      <td>London</td>\n",
              "      <td>UK</td>\n",
              "    </tr>\n",
              "    <tr>\n",
              "      <th>2</th>\n",
              "      <td>3</td>\n",
              "      <td>1004</td>\n",
              "      <td>2035</td>\n",
              "      <td>1248.859985</td>\n",
              "      <td>True</td>\n",
              "      <td>5000A</td>\n",
              "      <td>3053.540527</td>\n",
              "      <td>City-6</td>\n",
              "      <td>57</td>\n",
              "      <td>11</td>\n",
              "      <td>218</td>\n",
              "      <td>Gas Station</td>\n",
              "      <td>Paris</td>\n",
              "      <td>France</td>\n",
              "    </tr>\n",
              "    <tr>\n",
              "      <th>3</th>\n",
              "      <td>4</td>\n",
              "      <td>1095</td>\n",
              "      <td>2037</td>\n",
              "      <td>7619.049805</td>\n",
              "      <td>True</td>\n",
              "      <td>5000C</td>\n",
              "      <td>2769.927490</td>\n",
              "      <td>City-6</td>\n",
              "      <td>59</td>\n",
              "      <td>8</td>\n",
              "      <td>164</td>\n",
              "      <td>Travel</td>\n",
              "      <td>Paris</td>\n",
              "      <td>France</td>\n",
              "    </tr>\n",
              "    <tr>\n",
              "      <th>4</th>\n",
              "      <td>5</td>\n",
              "      <td>1036</td>\n",
              "      <td>2083</td>\n",
              "      <td>1890.099976</td>\n",
              "      <td>True</td>\n",
              "      <td>5000A</td>\n",
              "      <td>2175.908447</td>\n",
              "      <td>City-34</td>\n",
              "      <td>36</td>\n",
              "      <td>14</td>\n",
              "      <td>489</td>\n",
              "      <td>Retail</td>\n",
              "      <td>Tokyo</td>\n",
              "      <td>Japan</td>\n",
              "    </tr>\n",
              "  </tbody>\n",
              "</table>\n",
              "</div>"
            ],
            "text/plain": [
              "   transaction_id  customer_id  merchant_id       amount  is_fraudulent  \\\n",
              "0               1         1082         2027  5758.589844          False   \n",
              "1               2         1015         2053  1901.560059           True   \n",
              "2               3         1004         2035  1248.859985           True   \n",
              "3               4         1095         2037  7619.049805           True   \n",
              "4               5         1036         2083  1890.099976           True   \n",
              "\n",
              "  card_ID          CLV location_ID  Customer_Age  Account_Tenure_Years  \\\n",
              "0   5000A  2789.186279     City-30            43                    11   \n",
              "1   5000B  3604.427979     City-47            61                     6   \n",
              "2   5000A  3053.540527      City-6            57                    11   \n",
              "3   5000C  2769.927490      City-6            59                     8   \n",
              "4   5000A  2175.908447     City-34            36                    14   \n",
              "\n",
              "   Transaction_Frequency purchase_category      City Country  \n",
              "0                    460       Gas Station  New York     USA  \n",
              "1                    222   Online Shopping    London      UK  \n",
              "2                    218       Gas Station     Paris  France  \n",
              "3                    164            Travel     Paris  France  \n",
              "4                    489            Retail     Tokyo   Japan  "
            ]
          },
          "execution_count": 18,
          "metadata": {},
          "output_type": "execute_result"
        }
      ],
      "source": [
        "merged_3.head()"
      ]
    },
    {
      "cell_type": "code",
      "execution_count": 19,
      "metadata": {
        "id": "ZlL9atTR-CIL"
      },
      "outputs": [],
      "source": [
        "# Merging previous merged data with the Card Details data\n",
        "final_data = merged_3.merge(Card_df, on='card_ID', how='left')"
      ]
    },
    {
      "cell_type": "code",
      "execution_count": 20,
      "metadata": {
        "colab": {
          "base_uri": "https://localhost:8080/",
          "height": 244
        },
        "id": "gEshyYe1-SnH",
        "outputId": "8f5038ae-4883-4887-f04e-642cf1bf9f74"
      },
      "outputs": [
        {
          "data": {
            "text/html": [
              "<div>\n",
              "<style scoped>\n",
              "    .dataframe tbody tr th:only-of-type {\n",
              "        vertical-align: middle;\n",
              "    }\n",
              "\n",
              "    .dataframe tbody tr th {\n",
              "        vertical-align: top;\n",
              "    }\n",
              "\n",
              "    .dataframe thead th {\n",
              "        text-align: right;\n",
              "    }\n",
              "</style>\n",
              "<table border=\"1\" class=\"dataframe\">\n",
              "  <thead>\n",
              "    <tr style=\"text-align: right;\">\n",
              "      <th></th>\n",
              "      <th>transaction_id</th>\n",
              "      <th>customer_id</th>\n",
              "      <th>merchant_id</th>\n",
              "      <th>amount</th>\n",
              "      <th>is_fraudulent</th>\n",
              "      <th>card_ID</th>\n",
              "      <th>CLV</th>\n",
              "      <th>location_ID</th>\n",
              "      <th>Customer_Age</th>\n",
              "      <th>Account_Tenure_Years</th>\n",
              "      <th>Transaction_Frequency</th>\n",
              "      <th>purchase_category</th>\n",
              "      <th>City</th>\n",
              "      <th>Country</th>\n",
              "      <th>card_type</th>\n",
              "    </tr>\n",
              "  </thead>\n",
              "  <tbody>\n",
              "    <tr>\n",
              "      <th>0</th>\n",
              "      <td>1</td>\n",
              "      <td>1082</td>\n",
              "      <td>2027</td>\n",
              "      <td>5758.589844</td>\n",
              "      <td>False</td>\n",
              "      <td>5000A</td>\n",
              "      <td>2789.186279</td>\n",
              "      <td>City-30</td>\n",
              "      <td>43</td>\n",
              "      <td>11</td>\n",
              "      <td>460</td>\n",
              "      <td>Gas Station</td>\n",
              "      <td>New York</td>\n",
              "      <td>USA</td>\n",
              "      <td>MasterCard</td>\n",
              "    </tr>\n",
              "    <tr>\n",
              "      <th>1</th>\n",
              "      <td>2</td>\n",
              "      <td>1015</td>\n",
              "      <td>2053</td>\n",
              "      <td>1901.560059</td>\n",
              "      <td>True</td>\n",
              "      <td>5000B</td>\n",
              "      <td>3604.427979</td>\n",
              "      <td>City-47</td>\n",
              "      <td>61</td>\n",
              "      <td>6</td>\n",
              "      <td>222</td>\n",
              "      <td>Online Shopping</td>\n",
              "      <td>London</td>\n",
              "      <td>UK</td>\n",
              "      <td>Visa</td>\n",
              "    </tr>\n",
              "    <tr>\n",
              "      <th>2</th>\n",
              "      <td>3</td>\n",
              "      <td>1004</td>\n",
              "      <td>2035</td>\n",
              "      <td>1248.859985</td>\n",
              "      <td>True</td>\n",
              "      <td>5000A</td>\n",
              "      <td>3053.540527</td>\n",
              "      <td>City-6</td>\n",
              "      <td>57</td>\n",
              "      <td>11</td>\n",
              "      <td>218</td>\n",
              "      <td>Gas Station</td>\n",
              "      <td>Paris</td>\n",
              "      <td>France</td>\n",
              "      <td>MasterCard</td>\n",
              "    </tr>\n",
              "    <tr>\n",
              "      <th>3</th>\n",
              "      <td>4</td>\n",
              "      <td>1095</td>\n",
              "      <td>2037</td>\n",
              "      <td>7619.049805</td>\n",
              "      <td>True</td>\n",
              "      <td>5000C</td>\n",
              "      <td>2769.927490</td>\n",
              "      <td>City-6</td>\n",
              "      <td>59</td>\n",
              "      <td>8</td>\n",
              "      <td>164</td>\n",
              "      <td>Travel</td>\n",
              "      <td>Paris</td>\n",
              "      <td>France</td>\n",
              "      <td>Discover</td>\n",
              "    </tr>\n",
              "    <tr>\n",
              "      <th>4</th>\n",
              "      <td>5</td>\n",
              "      <td>1036</td>\n",
              "      <td>2083</td>\n",
              "      <td>1890.099976</td>\n",
              "      <td>True</td>\n",
              "      <td>5000A</td>\n",
              "      <td>2175.908447</td>\n",
              "      <td>City-34</td>\n",
              "      <td>36</td>\n",
              "      <td>14</td>\n",
              "      <td>489</td>\n",
              "      <td>Retail</td>\n",
              "      <td>Tokyo</td>\n",
              "      <td>Japan</td>\n",
              "      <td>MasterCard</td>\n",
              "    </tr>\n",
              "  </tbody>\n",
              "</table>\n",
              "</div>"
            ],
            "text/plain": [
              "   transaction_id  customer_id  merchant_id       amount  is_fraudulent  \\\n",
              "0               1         1082         2027  5758.589844          False   \n",
              "1               2         1015         2053  1901.560059           True   \n",
              "2               3         1004         2035  1248.859985           True   \n",
              "3               4         1095         2037  7619.049805           True   \n",
              "4               5         1036         2083  1890.099976           True   \n",
              "\n",
              "  card_ID          CLV location_ID  Customer_Age  Account_Tenure_Years  \\\n",
              "0   5000A  2789.186279     City-30            43                    11   \n",
              "1   5000B  3604.427979     City-47            61                     6   \n",
              "2   5000A  3053.540527      City-6            57                    11   \n",
              "3   5000C  2769.927490      City-6            59                     8   \n",
              "4   5000A  2175.908447     City-34            36                    14   \n",
              "\n",
              "   Transaction_Frequency purchase_category      City Country   card_type  \n",
              "0                    460       Gas Station  New York     USA  MasterCard  \n",
              "1                    222   Online Shopping    London      UK        Visa  \n",
              "2                    218       Gas Station     Paris  France  MasterCard  \n",
              "3                    164            Travel     Paris  France    Discover  \n",
              "4                    489            Retail     Tokyo   Japan  MasterCard  "
            ]
          },
          "execution_count": 20,
          "metadata": {},
          "output_type": "execute_result"
        }
      ],
      "source": [
        "final_data.head()"
      ]
    },
    {
      "cell_type": "code",
      "execution_count": 21,
      "metadata": {
        "colab": {
          "base_uri": "https://localhost:8080/",
          "height": 300
        },
        "id": "ETBe6mjo-Vx_",
        "outputId": "0e699ce6-8dda-42b6-cedb-4102158ced77"
      },
      "outputs": [
        {
          "data": {
            "text/html": [
              "<div>\n",
              "<style scoped>\n",
              "    .dataframe tbody tr th:only-of-type {\n",
              "        vertical-align: middle;\n",
              "    }\n",
              "\n",
              "    .dataframe tbody tr th {\n",
              "        vertical-align: top;\n",
              "    }\n",
              "\n",
              "    .dataframe thead th {\n",
              "        text-align: right;\n",
              "    }\n",
              "</style>\n",
              "<table border=\"1\" class=\"dataframe\">\n",
              "  <thead>\n",
              "    <tr style=\"text-align: right;\">\n",
              "      <th></th>\n",
              "      <th>transaction_id</th>\n",
              "      <th>customer_id</th>\n",
              "      <th>merchant_id</th>\n",
              "      <th>amount</th>\n",
              "      <th>CLV</th>\n",
              "      <th>Customer_Age</th>\n",
              "      <th>Account_Tenure_Years</th>\n",
              "      <th>Transaction_Frequency</th>\n",
              "    </tr>\n",
              "  </thead>\n",
              "  <tbody>\n",
              "    <tr>\n",
              "      <th>count</th>\n",
              "      <td>10000.00000</td>\n",
              "      <td>10000.000000</td>\n",
              "      <td>10000.000000</td>\n",
              "      <td>10000.000000</td>\n",
              "      <td>10000.000000</td>\n",
              "      <td>10000.000000</td>\n",
              "      <td>10000.000000</td>\n",
              "      <td>10000.000000</td>\n",
              "    </tr>\n",
              "    <tr>\n",
              "      <th>mean</th>\n",
              "      <td>5000.50000</td>\n",
              "      <td>1051.272300</td>\n",
              "      <td>2050.486600</td>\n",
              "      <td>4958.381619</td>\n",
              "      <td>2532.648570</td>\n",
              "      <td>43.763400</td>\n",
              "      <td>9.948900</td>\n",
              "      <td>247.692000</td>\n",
              "    </tr>\n",
              "    <tr>\n",
              "      <th>std</th>\n",
              "      <td>2886.89568</td>\n",
              "      <td>28.864062</td>\n",
              "      <td>28.877801</td>\n",
              "      <td>2899.699677</td>\n",
              "      <td>1419.067363</td>\n",
              "      <td>14.664519</td>\n",
              "      <td>5.526513</td>\n",
              "      <td>136.399665</td>\n",
              "    </tr>\n",
              "    <tr>\n",
              "      <th>min</th>\n",
              "      <td>1.00000</td>\n",
              "      <td>1001.000000</td>\n",
              "      <td>2001.000000</td>\n",
              "      <td>10.610000</td>\n",
              "      <td>100.355003</td>\n",
              "      <td>18.000000</td>\n",
              "      <td>1.000000</td>\n",
              "      <td>9.000000</td>\n",
              "    </tr>\n",
              "    <tr>\n",
              "      <th>25%</th>\n",
              "      <td>2500.75000</td>\n",
              "      <td>1026.000000</td>\n",
              "      <td>2025.000000</td>\n",
              "      <td>2438.175049</td>\n",
              "      <td>1302.019226</td>\n",
              "      <td>34.000000</td>\n",
              "      <td>5.000000</td>\n",
              "      <td>138.000000</td>\n",
              "    </tr>\n",
              "    <tr>\n",
              "      <th>50%</th>\n",
              "      <td>5000.50000</td>\n",
              "      <td>1052.000000</td>\n",
              "      <td>2050.000000</td>\n",
              "      <td>4943.945068</td>\n",
              "      <td>2518.155029</td>\n",
              "      <td>43.000000</td>\n",
              "      <td>9.000000</td>\n",
              "      <td>235.000000</td>\n",
              "    </tr>\n",
              "    <tr>\n",
              "      <th>75%</th>\n",
              "      <td>7500.25000</td>\n",
              "      <td>1076.000000</td>\n",
              "      <td>2076.000000</td>\n",
              "      <td>7499.312622</td>\n",
              "      <td>3766.635071</td>\n",
              "      <td>56.000000</td>\n",
              "      <td>15.000000</td>\n",
              "      <td>363.000000</td>\n",
              "    </tr>\n",
              "    <tr>\n",
              "      <th>max</th>\n",
              "      <td>10000.00000</td>\n",
              "      <td>1100.000000</td>\n",
              "      <td>2100.000000</td>\n",
              "      <td>9999.750000</td>\n",
              "      <td>4999.892090</td>\n",
              "      <td>70.000000</td>\n",
              "      <td>20.000000</td>\n",
              "      <td>489.000000</td>\n",
              "    </tr>\n",
              "  </tbody>\n",
              "</table>\n",
              "</div>"
            ],
            "text/plain": [
              "       transaction_id   customer_id   merchant_id        amount           CLV  \\\n",
              "count     10000.00000  10000.000000  10000.000000  10000.000000  10000.000000   \n",
              "mean       5000.50000   1051.272300   2050.486600   4958.381619   2532.648570   \n",
              "std        2886.89568     28.864062     28.877801   2899.699677   1419.067363   \n",
              "min           1.00000   1001.000000   2001.000000     10.610000    100.355003   \n",
              "25%        2500.75000   1026.000000   2025.000000   2438.175049   1302.019226   \n",
              "50%        5000.50000   1052.000000   2050.000000   4943.945068   2518.155029   \n",
              "75%        7500.25000   1076.000000   2076.000000   7499.312622   3766.635071   \n",
              "max       10000.00000   1100.000000   2100.000000   9999.750000   4999.892090   \n",
              "\n",
              "       Customer_Age  Account_Tenure_Years  Transaction_Frequency  \n",
              "count  10000.000000          10000.000000           10000.000000  \n",
              "mean      43.763400              9.948900             247.692000  \n",
              "std       14.664519              5.526513             136.399665  \n",
              "min       18.000000              1.000000               9.000000  \n",
              "25%       34.000000              5.000000             138.000000  \n",
              "50%       43.000000              9.000000             235.000000  \n",
              "75%       56.000000             15.000000             363.000000  \n",
              "max       70.000000             20.000000             489.000000  "
            ]
          },
          "execution_count": 21,
          "metadata": {},
          "output_type": "execute_result"
        }
      ],
      "source": [
        "# description of the data\n",
        "final_data.describe()"
      ]
    },
    {
      "cell_type": "code",
      "execution_count": 22,
      "metadata": {
        "colab": {
          "base_uri": "https://localhost:8080/",
          "height": 458
        },
        "id": "L_NI98SF-d73",
        "outputId": "6a6ba342-8b62-48df-fbd2-25e4a5d42a27"
      },
      "outputs": [
        {
          "data": {
            "text/plain": [
              "0       False\n",
              "1       False\n",
              "2       False\n",
              "3       False\n",
              "4       False\n",
              "        ...  \n",
              "9995    False\n",
              "9996    False\n",
              "9997    False\n",
              "9998    False\n",
              "9999    False\n",
              "Length: 10000, dtype: bool"
            ]
          },
          "execution_count": 22,
          "metadata": {},
          "output_type": "execute_result"
        }
      ],
      "source": [
        "# checking duplicate rows\n",
        "final_data.duplicated()"
      ]
    },
    {
      "cell_type": "code",
      "execution_count": 23,
      "metadata": {
        "colab": {
          "base_uri": "https://localhost:8080/"
        },
        "id": "FHU9Qx8U-2p7",
        "outputId": "f16c14c9-56d7-4643-e605-832fca0a0f10"
      },
      "outputs": [
        {
          "name": "stdout",
          "output_type": "stream",
          "text": [
            "<class 'pandas.core.frame.DataFrame'>\n",
            "RangeIndex: 10000 entries, 0 to 9999\n",
            "Data columns (total 15 columns):\n",
            " #   Column                 Non-Null Count  Dtype  \n",
            "---  ------                 --------------  -----  \n",
            " 0   transaction_id         10000 non-null  int64  \n",
            " 1   customer_id            10000 non-null  int64  \n",
            " 2   merchant_id            10000 non-null  int64  \n",
            " 3   amount                 10000 non-null  float64\n",
            " 4   is_fraudulent          10000 non-null  bool   \n",
            " 5   card_ID                10000 non-null  object \n",
            " 6   CLV                    10000 non-null  float64\n",
            " 7   location_ID            10000 non-null  object \n",
            " 8   Customer_Age           10000 non-null  int64  \n",
            " 9   Account_Tenure_Years   10000 non-null  int64  \n",
            " 10  Transaction_Frequency  10000 non-null  int64  \n",
            " 11  purchase_category      10000 non-null  object \n",
            " 12  City                   10000 non-null  object \n",
            " 13  Country                10000 non-null  object \n",
            " 14  card_type              10000 non-null  object \n",
            "dtypes: bool(1), float64(2), int64(6), object(6)\n",
            "memory usage: 1.1+ MB\n"
          ]
        }
      ],
      "source": [
        "# information of the dataset\n",
        "final_data.info()"
      ]
    },
    {
      "cell_type": "markdown",
      "metadata": {
        "id": "S8Zl-OMEheOv"
      },
      "source": [
        "# Exploratory Data Analysis (EDA)"
      ]
    },
    {
      "cell_type": "code",
      "execution_count": 24,
      "metadata": {
        "colab": {
          "base_uri": "https://localhost:8080/",
          "height": 410
        },
        "id": "pI_x79DtWgfa",
        "outputId": "66f6ab9f-34e1-4097-d844-0d5f840e21d8"
      },
      "outputs": [
        {
          "data": {
            "image/png": "[encoded data removed]",
            "text/plain": [
              "<Figure size 800x400 with 1 Axes>"
            ]
          },
          "metadata": {},
          "output_type": "display_data"
        }
      ],
      "source": [
        "# Visualizing the counts of different types transactions\n",
        "plt.figure(figsize=(8,4))\n",
        "sea.countplot(x='is_fraudulent', data=final_data, palette='BrBG')\n",
        "plt.title('Fraudulent vs. Non-Fraudulent Transactions')\n",
        "plt.xlabel('Is Fraudulent')\n",
        "plt.ylabel('Count')\n",
        "plt.xticks([0,1], ['Non-Fraudulent', 'Fraudulent'])\n",
        "plt.show()"
      ]
    },
    {
      "cell_type": "code",
      "execution_count": 25,
      "metadata": {
        "colab": {
          "base_uri": "https://localhost:8080/",
          "height": 564
        },
        "id": "SwV0XKcTiugA",
        "outputId": "6b6a5156-878f-4c2f-a24b-ac74b2dce23e"
      },
      "outputs": [
        {
          "data": {
            "image/png": "[encoded data removed]",
            "text/plain": [
              "<Figure size 1000x600 with 1 Axes>"
            ]
          },
          "metadata": {},
          "output_type": "display_data"
        }
      ],
      "source": [
        "# Showing the distribution of the transactions\n",
        "plt.figure(figsize=(10,6))\n",
        "sea.histplot(final_data['amount'], bins=50, kde=True, color='green')\n",
        "plt.title('Distribution of Transaction Amounts')\n",
        "plt.xlabel('Amount ($)')\n",
        "plt.ylabel('Frequency')\n",
        "plt.show()"
      ]
    },
    {
      "cell_type": "code",
      "execution_count": 26,
      "metadata": {
        "colab": {
          "base_uri": "https://localhost:8080/",
          "height": 564
        },
        "id": "oG-682z8pG4n",
        "outputId": "32ac3713-c1e0-490d-d3b2-1aca589f0a21"
      },
      "outputs": [
        {
          "data": {
            "image/png": "[encoded data removed]",
            "text/plain": [
              "<Figure size 1000x600 with 1 Axes>"
            ]
          },
          "metadata": {},
          "output_type": "display_data"
        }
      ],
      "source": [
        "# Showing transactions by card type\n",
        "plt.figure(figsize=(10,6))\n",
        "sea.countplot(x='card_type', hue='is_fraudulent', data=final_data, palette='Set3')\n",
        "plt.title('Fraudulent Transactions by Card Type')\n",
        "plt.xlabel('Card Type')\n",
        "plt.ylabel('Count')\n",
        "plt.legend(title='Is Fraudulent', labels=['Non-Fraudulent', 'Fraudulent'])\n",
        "plt.show()"
      ]
    },
    {
      "cell_type": "code",
      "execution_count": 27,
      "metadata": {
        "colab": {
          "base_uri": "https://localhost:8080/",
          "height": 564
        },
        "id": "N_Iq_kmYkH5S",
        "outputId": "72603b31-7cfa-4b58-b473-300219cc6373"
      },
      "outputs": [
        {
          "data": {
            "image/png": "[encoded data removed]",
            "text/plain": [
              "<Figure size 1000x600 with 1 Axes>"
            ]
          },
          "metadata": {},
          "output_type": "display_data"
        }
      ],
      "source": [
        "# distribution of CLV\n",
        "plt.figure(figsize=(10,6))\n",
        "sea.histplot(final_data['CLV'], bins=50, kde=True, color='orange')\n",
        "plt.title('Distribution of Customer Lifetime Value (CLV)')\n",
        "plt.xlabel('CLV ($)')\n",
        "plt.ylabel('Frequency')\n",
        "plt.show()"
      ]
    },
    {
      "cell_type": "code",
      "execution_count": 28,
      "metadata": {
        "colab": {
          "base_uri": "https://localhost:8080/",
          "height": 689
        },
        "id": "f0IbAYgnojwd",
        "outputId": "0fbe3f2e-e110-4356-a83f-481802fedd5e"
      },
      "outputs": [
        {
          "data": {
            "image/png": "[encoded data removed]",
            "text/plain": [
              "<Figure size 800x600 with 2 Axes>"
            ]
          },
          "metadata": {},
          "output_type": "display_data"
        }
      ],
      "source": [
        "# Evaluating the correlation matrix\n",
        "corr_matrix = final_data[['amount', 'CLV', 'Customer_Age','Transaction_Frequency', 'is_fraudulent', 'Account_Tenure_Years']].corr()\n",
        "# Plotting the heatmap\n",
        "plt.figure(figsize=(8,6))\n",
        "sea.heatmap(corr_matrix, annot=True, cmap='coolwarm', linewidths=0.5)\n",
        "plt.title('Correlation Heatmap')\n",
        "plt.show()"
      ]
    },
    {
      "cell_type": "code",
      "execution_count": 29,
      "metadata": {
        "colab": {
          "base_uri": "https://localhost:8080/",
          "height": 521
        },
        "id": "ZFVrD795r81Z",
        "outputId": "cc53e4a1-9cdc-44ba-d6dd-59a85ad880ad"
      },
      "outputs": [
        {
          "data": {
            "image/png": "[encoded data removed]",
            "text/plain": [
              "<Figure size 800x600 with 1 Axes>"
            ]
          },
          "metadata": {},
          "output_type": "display_data"
        }
      ],
      "source": [
        "# Filtering the fraudulent transactions\n",
        "fraudulent_data = final_data[final_data['is_fraudulent'] == 1]\n",
        "# Counting overall fraudulent transactions by the purchase category\n",
        "fraud_counts = fraudulent_data['purchase_category'].value_counts()\n",
        "# Plotting the pie chart\n",
        "plt.figure(figsize=(8, 6))\n",
        "plt.pie(fraud_counts, labels=fraud_counts.index, autopct='%1.1f%%', startangle=140, colors=sea.color_palette('pastel'))\n",
        "plt.title('Total Fraudulent Transactions by Purchase Category')\n",
        "plt.axis('equal')  # Equal aspect ratio ensures the pie chart is circular\n",
        "plt.show()"
      ]
    },
    {
      "cell_type": "code",
      "execution_count": 30,
      "metadata": {
        "colab": {
          "base_uri": "https://localhost:8080/",
          "height": 564
        },
        "id": "n1yRs86dsNTX",
        "outputId": "769777bd-59c2-4919-e401-1a6b996bc95c"
      },
      "outputs": [
        {
          "data": {
            "image/png": "[encoded data removed]",
            "text/plain": [
              "<Figure size 1200x600 with 1 Axes>"
            ]
          },
          "metadata": {},
          "output_type": "display_data"
        }
      ],
      "source": [
        "# Recognizing transactions by top 10 cities\n",
        "top_cities = final_data['City'].value_counts().nlargest(10)\n",
        "# Developing the horizontal bar chart\n",
        "plt.figure(figsize=(12,6))\n",
        "sea.barplot(y=top_cities.index, x=top_cities.values, palette='Set1')\n",
        "# Adding titles and labels\n",
        "plt.title('Total Transactions by Top 10 Cities')\n",
        "plt.xlabel('Number of Transactions')\n",
        "plt.ylabel('Cities')\n",
        "# Showing the plot\n",
        "plt.show()"
      ]
    },
    {
      "cell_type": "code",
      "execution_count": 31,
      "metadata": {
        "colab": {
          "base_uri": "https://localhost:8080/",
          "height": 564
        },
        "id": "dHj08RP1_jnj",
        "outputId": "0dfa3a03-deb5-4798-83c8-85b51b9bfc80"
      },
      "outputs": [
        {
          "data": {
            "image/png": "[encoded data removed]",
            "text/plain": [
              "<Figure size 1200x600 with 1 Axes>"
            ]
          },
          "metadata": {},
          "output_type": "display_data"
        }
      ],
      "source": [
        "# Generating a boxplot for Transaction_Frequency\n",
        "plt.figure(figsize=(12, 6))\n",
        "sea.boxplot(x='is_fraudulent', y='Transaction_Frequency', data=final_data, palette='Set2')\n",
        "plt.title('Transaction Frequency by Fraudulent Transactions')\n",
        "plt.xlabel('Is Fraudulent')\n",
        "plt.ylabel('Transaction Frequency')\n",
        "plt.xticks([0, 1], ['Non-Fraudulent', 'Fraudulent'])\n",
        "plt.show()"
      ]
    },
    {
      "cell_type": "code",
      "execution_count": null,
      "metadata": {
        "id": "RB_QmGy3BC8c"
      },
      "outputs": [],
      "source": []
    }
  ],
  "metadata": {
    "colab": {
      "provenance": []
    },
    "kernelspec": {
      "display_name": "Python 3",
      "name": "python3"
    },
    "language_info": {
      "codemirror_mode": {
        "name": "ipython",
        "version": 3
      },
      "file_extension": ".py",
      "mimetype": "text/x-python",
      "name": "python",
      "nbconvert_exporter": "python",
      "pygments_lexer": "ipython3",
      "version": "3.12.1"
    }
  },
  "nbformat": 4,
  "nbformat_minor": 0
}
